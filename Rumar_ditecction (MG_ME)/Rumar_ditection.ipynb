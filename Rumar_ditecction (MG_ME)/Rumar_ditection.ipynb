{
 "cells": [
  {
   "cell_type": "code",
   "execution_count": 1,
   "id": "3aed6159",
   "metadata": {},
   "outputs": [],
   "source": [
    "import numpy as np \n",
    "import pandas as pd"
   ]
  },
  {
   "cell_type": "code",
   "execution_count": 2,
   "id": "a0306978",
   "metadata": {},
   "outputs": [],
   "source": [
    "df=pd.read_csv(\"en_dup.csv\")"
   ]
  },
  {
   "cell_type": "code",
   "execution_count": 3,
   "id": "c1875c4c",
   "metadata": {},
   "outputs": [
    {
     "data": {
      "text/html": [
       "<div>\n",
       "<style scoped>\n",
       "    .dataframe tbody tr th:only-of-type {\n",
       "        vertical-align: middle;\n",
       "    }\n",
       "\n",
       "    .dataframe tbody tr th {\n",
       "        vertical-align: top;\n",
       "    }\n",
       "\n",
       "    .dataframe thead th {\n",
       "        text-align: right;\n",
       "    }\n",
       "</style>\n",
       "<table border=\"1\" class=\"dataframe\">\n",
       "  <thead>\n",
       "    <tr style=\"text-align: right;\">\n",
       "      <th></th>\n",
       "      <th>label</th>\n",
       "      <th>content</th>\n",
       "      <th>source</th>\n",
       "      <th>author</th>\n",
       "      <th>time</th>\n",
       "    </tr>\n",
       "  </thead>\n",
       "  <tbody>\n",
       "    <tr>\n",
       "      <th>0</th>\n",
       "      <td>F</td>\n",
       "      <td>Coronavirus was created in a government lab as...</td>\n",
       "      <td>NaN</td>\n",
       "      <td>NaN</td>\n",
       "      <td>NaN</td>\n",
       "    </tr>\n",
       "    <tr>\n",
       "      <th>1</th>\n",
       "      <td>F</td>\n",
       "      <td>The lie that coronavirus came from a bat or a ...</td>\n",
       "      <td>NaN</td>\n",
       "      <td>NaN</td>\n",
       "      <td>NaN</td>\n",
       "    </tr>\n",
       "    <tr>\n",
       "      <th>2</th>\n",
       "      <td>F</td>\n",
       "      <td>The health experts had predicted the virus cou...</td>\n",
       "      <td>NaN</td>\n",
       "      <td>NaN</td>\n",
       "      <td>NaN</td>\n",
       "    </tr>\n",
       "    <tr>\n",
       "      <th>3</th>\n",
       "      <td>F</td>\n",
       "      <td>A video clip supposedly showed that the expone...</td>\n",
       "      <td>NaN</td>\n",
       "      <td>NaN</td>\n",
       "      <td>NaN</td>\n",
       "    </tr>\n",
       "    <tr>\n",
       "      <th>4</th>\n",
       "      <td>T</td>\n",
       "      <td>Almost 200 people in Italy died from the coron...</td>\n",
       "      <td>NaN</td>\n",
       "      <td>NaN</td>\n",
       "      <td>NaN</td>\n",
       "    </tr>\n",
       "  </tbody>\n",
       "</table>\n",
       "</div>"
      ],
      "text/plain": [
       "  label                                            content source author time\n",
       "0     F  Coronavirus was created in a government lab as...    NaN    NaN  NaN\n",
       "1     F  The lie that coronavirus came from a bat or a ...    NaN    NaN  NaN\n",
       "2     F  The health experts had predicted the virus cou...    NaN    NaN  NaN\n",
       "3     F  A video clip supposedly showed that the expone...    NaN    NaN  NaN\n",
       "4     T  Almost 200 people in Italy died from the coron...    NaN    NaN  NaN"
      ]
     },
     "execution_count": 3,
     "metadata": {},
     "output_type": "execute_result"
    }
   ],
   "source": [
    "df.head()"
   ]
  },
  {
   "cell_type": "code",
   "execution_count": 4,
   "id": "165b1e31",
   "metadata": {},
   "outputs": [
    {
     "data": {
      "text/html": [
       "<div>\n",
       "<style scoped>\n",
       "    .dataframe tbody tr th:only-of-type {\n",
       "        vertical-align: middle;\n",
       "    }\n",
       "\n",
       "    .dataframe tbody tr th {\n",
       "        vertical-align: top;\n",
       "    }\n",
       "\n",
       "    .dataframe thead th {\n",
       "        text-align: right;\n",
       "    }\n",
       "</style>\n",
       "<table border=\"1\" class=\"dataframe\">\n",
       "  <thead>\n",
       "    <tr style=\"text-align: right;\">\n",
       "      <th></th>\n",
       "      <th>label</th>\n",
       "      <th>content</th>\n",
       "      <th>source</th>\n",
       "      <th>author</th>\n",
       "      <th>time</th>\n",
       "    </tr>\n",
       "  </thead>\n",
       "  <tbody>\n",
       "    <tr>\n",
       "      <th>0</th>\n",
       "      <td>False</td>\n",
       "      <td>False</td>\n",
       "      <td>True</td>\n",
       "      <td>True</td>\n",
       "      <td>True</td>\n",
       "    </tr>\n",
       "    <tr>\n",
       "      <th>1</th>\n",
       "      <td>False</td>\n",
       "      <td>False</td>\n",
       "      <td>True</td>\n",
       "      <td>True</td>\n",
       "      <td>True</td>\n",
       "    </tr>\n",
       "    <tr>\n",
       "      <th>2</th>\n",
       "      <td>False</td>\n",
       "      <td>False</td>\n",
       "      <td>True</td>\n",
       "      <td>True</td>\n",
       "      <td>True</td>\n",
       "    </tr>\n",
       "    <tr>\n",
       "      <th>3</th>\n",
       "      <td>False</td>\n",
       "      <td>False</td>\n",
       "      <td>True</td>\n",
       "      <td>True</td>\n",
       "      <td>True</td>\n",
       "    </tr>\n",
       "    <tr>\n",
       "      <th>4</th>\n",
       "      <td>False</td>\n",
       "      <td>False</td>\n",
       "      <td>True</td>\n",
       "      <td>True</td>\n",
       "      <td>True</td>\n",
       "    </tr>\n",
       "    <tr>\n",
       "      <th>...</th>\n",
       "      <td>...</td>\n",
       "      <td>...</td>\n",
       "      <td>...</td>\n",
       "      <td>...</td>\n",
       "      <td>...</td>\n",
       "    </tr>\n",
       "    <tr>\n",
       "      <th>7174</th>\n",
       "      <td>False</td>\n",
       "      <td>False</td>\n",
       "      <td>False</td>\n",
       "      <td>False</td>\n",
       "      <td>True</td>\n",
       "    </tr>\n",
       "    <tr>\n",
       "      <th>7175</th>\n",
       "      <td>False</td>\n",
       "      <td>False</td>\n",
       "      <td>False</td>\n",
       "      <td>False</td>\n",
       "      <td>True</td>\n",
       "    </tr>\n",
       "    <tr>\n",
       "      <th>7176</th>\n",
       "      <td>False</td>\n",
       "      <td>False</td>\n",
       "      <td>True</td>\n",
       "      <td>False</td>\n",
       "      <td>False</td>\n",
       "    </tr>\n",
       "    <tr>\n",
       "      <th>7177</th>\n",
       "      <td>False</td>\n",
       "      <td>False</td>\n",
       "      <td>True</td>\n",
       "      <td>False</td>\n",
       "      <td>False</td>\n",
       "    </tr>\n",
       "    <tr>\n",
       "      <th>7178</th>\n",
       "      <td>False</td>\n",
       "      <td>False</td>\n",
       "      <td>True</td>\n",
       "      <td>False</td>\n",
       "      <td>False</td>\n",
       "    </tr>\n",
       "  </tbody>\n",
       "</table>\n",
       "<p>7179 rows × 5 columns</p>\n",
       "</div>"
      ],
      "text/plain": [
       "      label  content  source  author   time\n",
       "0     False    False    True    True   True\n",
       "1     False    False    True    True   True\n",
       "2     False    False    True    True   True\n",
       "3     False    False    True    True   True\n",
       "4     False    False    True    True   True\n",
       "...     ...      ...     ...     ...    ...\n",
       "7174  False    False   False   False   True\n",
       "7175  False    False   False   False   True\n",
       "7176  False    False    True   False  False\n",
       "7177  False    False    True   False  False\n",
       "7178  False    False    True   False  False\n",
       "\n",
       "[7179 rows x 5 columns]"
      ]
     },
     "execution_count": 4,
     "metadata": {},
     "output_type": "execute_result"
    }
   ],
   "source": [
    "df.isnull()"
   ]
  },
  {
   "cell_type": "code",
   "execution_count": 5,
   "id": "4edb8c11",
   "metadata": {},
   "outputs": [
    {
     "data": {
      "text/plain": [
       "<bound method NDFrame.describe of      label                                            content  \\\n",
       "0        F  Coronavirus was created in a government lab as...   \n",
       "1        F  The lie that coronavirus came from a bat or a ...   \n",
       "2        F  The health experts had predicted the virus cou...   \n",
       "3        F  A video clip supposedly showed that the expone...   \n",
       "4        T  Almost 200 people in Italy died from the coron...   \n",
       "...    ...                                                ...   \n",
       "7174     F  “DDP (Democratic Progressive Party) legislator...   \n",
       "7175     F  In Japan, if the new coronavirus test is negat...   \n",
       "7176     T  We have a perfectly coordinated and fine tuned...   \n",
       "7177     F  Official death toll over 900 but we all know t...   \n",
       "7178     F  The number of new cases from China's coronavir...   \n",
       "\n",
       "                                                 source  \\\n",
       "0                                                   NaN   \n",
       "1                                                   NaN   \n",
       "2                                                   NaN   \n",
       "3                                                   NaN   \n",
       "4                                                   NaN   \n",
       "...                                                 ...   \n",
       "7174  https://www.poynter.org/?ifcn_misinformation=d...   \n",
       "7175  https://www.poynter.org/?ifcn_misinformation=i...   \n",
       "7176                                                NaN   \n",
       "7177                                                NaN   \n",
       "7178                                                NaN   \n",
       "\n",
       "                       author                     time  \n",
       "0                         NaN                      NaN  \n",
       "1                         NaN                      NaN  \n",
       "2                         NaN                      NaN  \n",
       "3                         NaN                      NaN  \n",
       "4                         NaN                      NaN  \n",
       "...                       ...                      ...  \n",
       "7174  Taiwan FactCheck Center                      NaN  \n",
       "7175           BuzzFeed Japan                      NaN  \n",
       "7176          Donald J. Trump    8:45 PM · Mar 8, 2020  \n",
       "7177                  phampit   3:57 PM · Feb 10, 2020  \n",
       "7178          Yahoo Singapore  10:00 AM · Feb 17, 2020  \n",
       "\n",
       "[7179 rows x 5 columns]>"
      ]
     },
     "execution_count": 5,
     "metadata": {},
     "output_type": "execute_result"
    }
   ],
   "source": [
    "df.describe"
   ]
  },
  {
   "cell_type": "code",
   "execution_count": 6,
   "id": "6c1bef7f",
   "metadata": {},
   "outputs": [
    {
     "name": "stdout",
     "output_type": "stream",
     "text": [
      "<class 'pandas.core.frame.DataFrame'>\n",
      "RangeIndex: 7179 entries, 0 to 7178\n",
      "Data columns (total 5 columns):\n",
      " #   Column   Non-Null Count  Dtype \n",
      "---  ------   --------------  ----- \n",
      " 0   label    7179 non-null   object\n",
      " 1   content  7179 non-null   object\n",
      " 2   source   3898 non-null   object\n",
      " 3   author   4738 non-null   object\n",
      " 4   time     2813 non-null   object\n",
      "dtypes: object(5)\n",
      "memory usage: 280.6+ KB\n"
     ]
    }
   ],
   "source": [
    "df.info()"
   ]
  },
  {
   "cell_type": "code",
   "execution_count": 7,
   "id": "130b0cf0",
   "metadata": {},
   "outputs": [
    {
     "data": {
      "text/plain": [
       "<bound method DataFrame.nunique of      label                                            content  \\\n",
       "0        F  Coronavirus was created in a government lab as...   \n",
       "1        F  The lie that coronavirus came from a bat or a ...   \n",
       "2        F  The health experts had predicted the virus cou...   \n",
       "3        F  A video clip supposedly showed that the expone...   \n",
       "4        T  Almost 200 people in Italy died from the coron...   \n",
       "...    ...                                                ...   \n",
       "7174     F  “DDP (Democratic Progressive Party) legislator...   \n",
       "7175     F  In Japan, if the new coronavirus test is negat...   \n",
       "7176     T  We have a perfectly coordinated and fine tuned...   \n",
       "7177     F  Official death toll over 900 but we all know t...   \n",
       "7178     F  The number of new cases from China's coronavir...   \n",
       "\n",
       "                                                 source  \\\n",
       "0                                                   NaN   \n",
       "1                                                   NaN   \n",
       "2                                                   NaN   \n",
       "3                                                   NaN   \n",
       "4                                                   NaN   \n",
       "...                                                 ...   \n",
       "7174  https://www.poynter.org/?ifcn_misinformation=d...   \n",
       "7175  https://www.poynter.org/?ifcn_misinformation=i...   \n",
       "7176                                                NaN   \n",
       "7177                                                NaN   \n",
       "7178                                                NaN   \n",
       "\n",
       "                       author                     time  \n",
       "0                         NaN                      NaN  \n",
       "1                         NaN                      NaN  \n",
       "2                         NaN                      NaN  \n",
       "3                         NaN                      NaN  \n",
       "4                         NaN                      NaN  \n",
       "...                       ...                      ...  \n",
       "7174  Taiwan FactCheck Center                      NaN  \n",
       "7175           BuzzFeed Japan                      NaN  \n",
       "7176          Donald J. Trump    8:45 PM · Mar 8, 2020  \n",
       "7177                  phampit   3:57 PM · Feb 10, 2020  \n",
       "7178          Yahoo Singapore  10:00 AM · Feb 17, 2020  \n",
       "\n",
       "[7179 rows x 5 columns]>"
      ]
     },
     "execution_count": 7,
     "metadata": {},
     "output_type": "execute_result"
    }
   ],
   "source": [
    "df.nunique"
   ]
  },
  {
   "cell_type": "code",
   "execution_count": 10,
   "id": "1b842d9e",
   "metadata": {},
   "outputs": [
    {
     "data": {
      "text/plain": [
       "Index(['label', 'content', 'source', 'author', 'time'], dtype='object')"
      ]
     },
     "execution_count": 10,
     "metadata": {},
     "output_type": "execute_result"
    }
   ],
   "source": [
    "df.columns"
   ]
  },
  {
   "cell_type": "code",
   "execution_count": 13,
   "id": "5255f13c",
   "metadata": {},
   "outputs": [
    {
     "data": {
      "text/plain": [
       "Index(['label', 'content', 'source', 'author', 'time'], dtype='object')"
      ]
     },
     "execution_count": 13,
     "metadata": {},
     "output_type": "execute_result"
    }
   ],
   "source": [
    "df.keys()"
   ]
  },
  {
   "cell_type": "code",
   "execution_count": 18,
   "id": "1ee9bafb",
   "metadata": {},
   "outputs": [
    {
     "data": {
      "text/plain": [
       "(7179, 5)"
      ]
     },
     "execution_count": 18,
     "metadata": {},
     "output_type": "execute_result"
    }
   ],
   "source": [
    "df.shape"
   ]
  },
  {
   "cell_type": "code",
   "execution_count": null,
   "id": "40088afd",
   "metadata": {},
   "outputs": [],
   "source": []
  }
 ],
 "metadata": {
  "kernelspec": {
   "display_name": "Python 3",
   "language": "python",
   "name": "python3"
  },
  "language_info": {
   "codemirror_mode": {
    "name": "ipython",
    "version": 3
   },
   "file_extension": ".py",
   "mimetype": "text/x-python",
   "name": "python",
   "nbconvert_exporter": "python",
   "pygments_lexer": "ipython3",
   "version": "3.8.8"
  }
 },
 "nbformat": 4,
 "nbformat_minor": 5
}
