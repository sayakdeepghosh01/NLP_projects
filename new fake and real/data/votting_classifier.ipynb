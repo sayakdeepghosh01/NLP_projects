{
 "cells": [
  {
   "cell_type": "code",
   "execution_count": 20,
   "id": "9da87a91",
   "metadata": {},
   "outputs": [],
   "source": [
    "# -*- coding: utf-8 -*-\n",
    "\"\"\"\n",
    "use voting calssifier\n",
    "in hand soft voting and hard voting \n",
    "Created on Wed Aug  4 01:56:17 2021\n",
    "\n",
    "@author: Sayak Ghosh\n",
    "\"\"\"\n",
    "\n",
    "\n",
    "import pandas as pd\n",
    "import numpy as np\n",
    "from sklearn.metrics import classification_report\n",
    "from sklearn.model_selection import train_test_split\n",
    "from sklearn.tree import DecisionTreeClassifier\n",
    "from xgboost import XGBClassifier\n",
    "from sklearn.metrics import accuracy_score\n",
    "from sklearn.ensemble import RandomForestClassifier, BaggingClassifier, AdaBoostClassifier, VotingClassifier\n",
    "from sklearn.svm import SVC\n",
    "from sklearn.linear_model import LogisticRegression\n",
    "from sklearn.ensemble import GradientBoostingClassifier\n",
    "from sklearn.naive_bayes import GaussianNB\n",
    "from sklearn.neighbors import KNeighborsClassifier\n",
    "from sklearn.linear_model import SGDClassifier\n",
    "from sklearn import metrics\n",
    "from sklearn.neural_network import MLPClassifier\n",
    "from sklearn.linear_model import PassiveAggressiveClassifier\n",
    "from sklearn.naive_bayes import MultinomialNB"
   ]
  },
  {
   "cell_type": "code",
   "execution_count": 3,
   "id": "0a3c6078",
   "metadata": {
    "scrolled": true
   },
   "outputs": [
    {
     "name": "stdout",
     "output_type": "stream",
     "text": [
      "4463    Our daily update is published. We’ve now track...\n",
      "1182    RT @CDC_eHealth: CDC leads a new national geno...\n",
      "2015    _Indian Prime Minister Narendra Modi has been ...\n",
      "5424    NEWS! Coronavirus ‘a serious and imminent thre...\n",
      "6010    Man Could Soon Be Eating Rice For Breakfast, D...\n",
      "                              ...                        \n",
      "5605    RT @PIB_India: #IndiaFightsCOVID19 ✅More than ...\n",
      "6258    We're getting a lot of questions about Georgia...\n",
      "5423    Prepare for the possible spread of #COVID19 in...\n",
      "361     #Coronavirus surges in Arizona. https://t.co/z...\n",
      "4117    A COVID-19 case has been diagnosed in Yedikule...\n",
      "Name: tweet, Length: 1284, dtype: object\n",
      "4463    real\n",
      "1182    real\n",
      "2015    fake\n",
      "5424    fake\n",
      "6010    fake\n",
      "        ... \n",
      "5605    real\n",
      "6258    real\n",
      "5423    real\n",
      "361     real\n",
      "4117    fake\n",
      "Name: label, Length: 1284, dtype: object\n"
     ]
    }
   ],
   "source": [
    "\n",
    "df=pd.read_csv(\"Constraint_Train.csv\")\n",
    "# my = my.replace([np.inf, -np.inf], np.nan)\n",
    "# my = my.fillna(0)\n",
    "# my[my < 0] = 0\n",
    "#my.drop(['Unnamed'])\n",
    "x=df['tweet']\n",
    "y=df['label']\n",
    "\n",
    "x_train,x_test,y_train,y_test = train_test_split(x,y,test_size = 0.2,random_state=7)\n",
    "###################### .values.ravel()\n",
    "print(x_test)\n",
    "print(y_test)"
   ]
  },
  {
   "cell_type": "code",
   "execution_count": 4,
   "id": "e281b9ba",
   "metadata": {},
   "outputs": [],
   "source": [
    "#preprocessing of the data \n",
    "\n",
    "\n",
    "from sklearn.feature_extraction.text import TfidfVectorizer\n",
    "tfidf_vectorizer = TfidfVectorizer(stop_words = 'english',max_df = 0.7)\n",
    "\n",
    "tfidf_train = tfidf_vectorizer.fit_transform(x_train)\n",
    "\n",
    "tfidf_test = tfidf_vectorizer.transform(x_test)"
   ]
  },
  {
   "cell_type": "code",
   "execution_count": 5,
   "id": "3c8769ff",
   "metadata": {},
   "outputs": [
    {
     "name": "stdout",
     "output_type": "stream",
     "text": [
      "  (0, 15360)\t0.23675641843973433\n",
      "  (0, 14621)\t0.24544879868006486\n",
      "  (0, 14429)\t0.21308925823116945\n",
      "  (0, 13989)\t0.289151596194692\n",
      "  (0, 13988)\t0.26829456467035295\n",
      "  (0, 13720)\t0.3734465333605745\n",
      "  (0, 13173)\t0.19935384699146969\n",
      "  (0, 11999)\t0.2765574545866556\n",
      "  (0, 11502)\t0.29108599262106793\n",
      "  (0, 11436)\t0.2492872980986575\n",
      "  (0, 10176)\t0.2750862944115268\n",
      "  (0, 9564)\t0.2399877211030372\n",
      "  (0, 7529)\t0.17361834333592496\n",
      "  (0, 5126)\t0.2568967670516251\n",
      "  (0, 4849)\t0.2252426990584096\n",
      "  (1, 14363)\t0.23888252571481405\n",
      "  (1, 13133)\t0.30589122919834694\n",
      "  (1, 12681)\t0.36851326358576675\n",
      "  (1, 12483)\t0.24592199308318438\n",
      "  (1, 12317)\t0.17280947617765882\n",
      "  (1, 10051)\t0.12241814142417139\n",
      "  (1, 9958)\t0.2149273267704883\n",
      "  (1, 8838)\t0.3163546673190134\n",
      "  (1, 8721)\t0.23052763173215587\n",
      "  (1, 7287)\t0.20360540775314634\n",
      "  :\t:\n",
      "  (1281, 12913)\t0.3098008475574137\n",
      "  (1281, 11212)\t0.2966638359271465\n",
      "  (1281, 11211)\t0.34557592998981057\n",
      "  (1281, 11116)\t0.22578878946415815\n",
      "  (1281, 10813)\t0.1305499317469792\n",
      "  (1281, 10389)\t0.25377030462627137\n",
      "  (1281, 9416)\t0.1982746108091646\n",
      "  (1281, 8845)\t0.1940265799772802\n",
      "  (1281, 7786)\t0.21689533608718534\n",
      "  (1281, 7529)\t0.12980259181150552\n",
      "  (1281, 5943)\t0.2620205247602208\n",
      "  (1281, 4622)\t0.09809582595186464\n",
      "  (1281, 4344)\t0.2398445111230679\n",
      "  (1281, 4279)\t0.19362613159754097\n",
      "  (1281, 2334)\t0.26690731625653863\n",
      "  (1281, 2249)\t0.2724944561230736\n",
      "  (1282, 13447)\t0.7500921525259554\n",
      "  (1282, 7529)\t0.147635059383272\n",
      "  (1282, 4530)\t0.2166413805358629\n",
      "  (1282, 2748)\t0.6071508578593889\n",
      "  (1283, 7459)\t0.4188196876636183\n",
      "  (1283, 5180)\t0.7389232738739288\n",
      "  (1283, 4620)\t0.2188175419543892\n",
      "  (1283, 3745)\t0.41736751622701074\n",
      "  (1283, 470)\t0.23770928522949894\n"
     ]
    }
   ],
   "source": [
    "print(tfidf_test)"
   ]
  },
  {
   "cell_type": "code",
   "execution_count": 6,
   "id": "3d6b81c4",
   "metadata": {},
   "outputs": [
    {
     "name": "stdout",
     "output_type": "stream",
     "text": [
      "MLP\n",
      "Accuracy: 0.9415887850467289\n",
      "              precision    recall  f1-score   support\n",
      "\n",
      "        fake   0.950847  0.924217  0.937343       607\n",
      "        real   0.933718  0.957164  0.945295       677\n",
      "\n",
      "    accuracy                       0.941589      1284\n",
      "   macro avg   0.942283  0.940691  0.941319      1284\n",
      "weighted avg   0.941816  0.941589  0.941536      1284\n",
      "\n"
     ]
    }
   ],
   "source": [
    "#MLP\n",
    "print(\"MLP\")\n",
    "cl = MLPClassifier()\n",
    "cl.fit(tfidf_train, y_train.values.ravel())\n",
    "y_pred = cl.predict(tfidf_test)\n",
    "print(\"Accuracy:\", metrics.accuracy_score(y_test, y_pred))\n",
    "print(classification_report(y_test, y_pred, digits=6))\n"
   ]
  },
  {
   "cell_type": "code",
   "execution_count": 7,
   "id": "61feaf94",
   "metadata": {},
   "outputs": [
    {
     "name": "stdout",
     "output_type": "stream",
     "text": [
      "K-Nearest Neighbours\n",
      "Accuracy: 0.9018691588785047\n",
      "              precision    recall  f1-score   support\n",
      "\n",
      "        fake   0.897521  0.894563  0.896040       607\n",
      "        real   0.905744  0.908419  0.907080       677\n",
      "\n",
      "    accuracy                       0.901869      1284\n",
      "   macro avg   0.901632  0.901491  0.901560      1284\n",
      "weighted avg   0.901856  0.901869  0.901861      1284\n",
      "\n"
     ]
    }
   ],
   "source": [
    "# K-Nearest Neighbours\n",
    "print(\"K-Nearest Neighbours\")\n",
    "knn = KNeighborsClassifier()\n",
    "knn.fit(tfidf_train,y_train.values.ravel())\n",
    "y_pred = knn.predict(tfidf_test)\n",
    "print(\"Accuracy:\", metrics.accuracy_score(y_test, y_pred))\n",
    "print(classification_report(y_test, y_pred, digits=6))"
   ]
  },
  {
   "cell_type": "code",
   "execution_count": 8,
   "id": "5eacc330",
   "metadata": {},
   "outputs": [
    {
     "name": "stdout",
     "output_type": "stream",
     "text": [
      "Tree\n",
      "Accuracy: 0.8886292834890965\n",
      "              precision    recall  f1-score   support\n",
      "\n",
      "        fake   0.882838  0.881384  0.882110       607\n",
      "        real   0.893805  0.895126  0.894465       677\n",
      "\n",
      "    accuracy                       0.888629      1284\n",
      "   macro avg   0.888322  0.888255  0.888288      1284\n",
      "weighted avg   0.888621  0.888629  0.888624      1284\n",
      "\n"
     ]
    }
   ],
   "source": [
    "\n",
    "# Decision Tree\n",
    "print(\"Tree\")\n",
    "dt = DecisionTreeClassifier()\n",
    "dt.fit(tfidf_train,y_train.values.ravel())\n",
    "y_pred = dt.predict(tfidf_test)\n",
    "print(\"Accuracy:\", metrics.accuracy_score(y_test, y_pred))\n",
    "print(classification_report(y_test, y_pred, digits=6))\n"
   ]
  },
  {
   "cell_type": "code",
   "execution_count": 9,
   "id": "a7ea8cf2",
   "metadata": {},
   "outputs": [
    {
     "name": "stdout",
     "output_type": "stream",
     "text": [
      "Forest\n",
      "Accuracy: 0.9221183800623053\n",
      "              precision    recall  f1-score   support\n",
      "\n",
      "        fake   0.904306  0.934102  0.918963       607\n",
      "        real   0.939117  0.911374  0.925037       677\n",
      "\n",
      "    accuracy                       0.922118      1284\n",
      "   macro avg   0.921712  0.922738  0.922000      1284\n",
      "weighted avg   0.922661  0.922118  0.922166      1284\n",
      "\n"
     ]
    }
   ],
   "source": [
    "# Forest\n",
    "print(\"Forest\")\n",
    "rf = RandomForestClassifier()\n",
    "rf.fit(tfidf_train,y_train.values.ravel())\n",
    "y_pred = rf.predict(tfidf_test)\n",
    "print(\"Accuracy:\", metrics.accuracy_score(y_test, y_pred))\n",
    "print(classification_report(y_test, y_pred, digits=6))\n"
   ]
  },
  {
   "cell_type": "code",
   "execution_count": 10,
   "id": "0a3dac3b",
   "metadata": {},
   "outputs": [
    {
     "name": "stdout",
     "output_type": "stream",
     "text": [
      "Bagging\n",
      "Accuracy: 0.8956386292834891\n",
      "              precision    recall  f1-score   support\n",
      "\n",
      "        fake   0.890909  0.887974  0.889439       607\n",
      "        real   0.899853  0.902511  0.901180       677\n",
      "\n",
      "    accuracy                       0.895639      1284\n",
      "   macro avg   0.895381  0.895242  0.895309      1284\n",
      "weighted avg   0.895625  0.895639  0.895629      1284\n",
      "\n"
     ]
    }
   ],
   "source": [
    "\n",
    "# Bagging\n",
    "print(\"Bagging\")\n",
    "rp = BaggingClassifier()\n",
    "rp.fit(tfidf_train, y_train.values.ravel())\n",
    "y_pred = rp.predict(tfidf_test)\n",
    "print(\"Accuracy:\", metrics.accuracy_score(y_test, y_pred))\n",
    "print(classification_report(y_test, y_pred, digits=6))\n"
   ]
  },
  {
   "cell_type": "code",
   "execution_count": 11,
   "id": "e76c3cd6",
   "metadata": {},
   "outputs": [
    {
     "name": "stdout",
     "output_type": "stream",
     "text": [
      "AdaBoost\n",
      "Accuracy: 0.8995327102803738\n",
      "              precision    recall  f1-score   support\n",
      "\n",
      "        fake   0.885484  0.904448  0.894866       607\n",
      "        real   0.912651  0.895126  0.903803       677\n",
      "\n",
      "    accuracy                       0.899533      1284\n",
      "   macro avg   0.899067  0.899787  0.899334      1284\n",
      "weighted avg   0.899808  0.899533  0.899578      1284\n",
      "\n"
     ]
    }
   ],
   "source": [
    "\n",
    "# AdaBoostClassifier\n",
    "print(\"AdaBoost\")\n",
    "adb = AdaBoostClassifier()\n",
    "adb.fit(tfidf_train,y_train.values.ravel())\n",
    "y_pred = adb.predict(tfidf_test)\n",
    "print(\"Accuracy:\", metrics.accuracy_score(y_test, y_pred))\n",
    "print(classification_report(y_test, y_pred, digits=6))\n"
   ]
  },
  {
   "cell_type": "code",
   "execution_count": 12,
   "id": "8338853a",
   "metadata": {},
   "outputs": [
    {
     "name": "stdout",
     "output_type": "stream",
     "text": [
      "G Boost\n",
      "Accuracy: 0.8886292834890965\n",
      "              precision    recall  f1-score   support\n",
      "\n",
      "        fake   0.869427  0.899506  0.884211       607\n",
      "        real   0.907012  0.878877  0.892723       677\n",
      "\n",
      "    accuracy                       0.888629      1284\n",
      "   macro avg   0.888219  0.889192  0.888467      1284\n",
      "weighted avg   0.889244  0.888629  0.888699      1284\n",
      "\n"
     ]
    }
   ],
   "source": [
    "# G Boost\n",
    "print(\"G Boost\")\n",
    "model = GradientBoostingClassifier()\n",
    "model.fit(tfidf_train,y_train.values.ravel())\n",
    "y_pred = model.predict(tfidf_test)\n",
    "print(\"Accuracy:\", metrics.accuracy_score(y_test, y_pred))\n",
    "print(classification_report(y_test, y_pred, digits=6))"
   ]
  },
  {
   "cell_type": "code",
   "execution_count": 13,
   "id": "8f6fc3f7",
   "metadata": {},
   "outputs": [
    {
     "name": "stdout",
     "output_type": "stream",
     "text": [
      "Stochastic Gradient Descent\n",
      "Accuracy: 0.9548286604361371\n",
      "              precision    recall  f1-score   support\n",
      "\n",
      "        fake   0.969231  0.934102  0.951342       607\n",
      "        real   0.942775  0.973412  0.957849       677\n",
      "\n",
      "    accuracy                       0.954829      1284\n",
      "   macro avg   0.956003  0.953757  0.954596      1284\n",
      "weighted avg   0.955282  0.954829  0.954773      1284\n",
      "\n"
     ]
    }
   ],
   "source": [
    "# Stochastic Gradient Descent\n",
    "print(\"Stochastic Gradient Descent\")\n",
    "sgd = SGDClassifier()\n",
    "sgd.fit(tfidf_train,y_train.values.ravel())\n",
    "y_pred = sgd.predict(tfidf_test)\n",
    "print(\"Accuracy:\", metrics.accuracy_score(y_test, y_pred))\n",
    "print(classification_report(y_test, y_pred, digits=6))\n"
   ]
  },
  {
   "cell_type": "code",
   "execution_count": 14,
   "id": "8f290058",
   "metadata": {},
   "outputs": [
    {
     "name": "stdout",
     "output_type": "stream",
     "text": [
      "G Boost\n",
      "Accuracy: 0.8886292834890965\n",
      "              precision    recall  f1-score   support\n",
      "\n",
      "        fake   0.869427  0.899506  0.884211       607\n",
      "        real   0.907012  0.878877  0.892723       677\n",
      "\n",
      "    accuracy                       0.888629      1284\n",
      "   macro avg   0.888219  0.889192  0.888467      1284\n",
      "weighted avg   0.889244  0.888629  0.888699      1284\n",
      "\n"
     ]
    }
   ],
   "source": [
    "# G Boost\n",
    "print(\"G Boost\")\n",
    "model = GradientBoostingClassifier()\n",
    "model.fit(tfidf_train,y_train.values.ravel())\n",
    "y_pred = model.predict(tfidf_test)\n",
    "print(\"Accuracy:\", metrics.accuracy_score(y_test, y_pred))\n",
    "print(classification_report(y_test, y_pred, digits=6))"
   ]
  },
  {
   "cell_type": "code",
   "execution_count": 15,
   "id": "b6e1a598",
   "metadata": {},
   "outputs": [
    {
     "name": "stdout",
     "output_type": "stream",
     "text": [
      "Voting Classifier\n",
      "0.9571651090342679\n",
      "              precision    recall  f1-score   support\n",
      "\n",
      "        fake   0.869427  0.899506  0.884211       607\n",
      "        real   0.907012  0.878877  0.892723       677\n",
      "\n",
      "    accuracy                       0.888629      1284\n",
      "   macro avg   0.888219  0.889192  0.888467      1284\n",
      "weighted avg   0.889244  0.888629  0.888699      1284\n",
      "\n"
     ]
    }
   ],
   "source": [
    "# Voting Classifier\n",
    "print(\"Voting Classifier\")\n",
    "#lr = LogisticRegression()\n",
    "mlp = MLPClassifier()\n",
    "rf = RandomForestClassifier()\n",
    "sgd = SGDClassifier()\n",
    "#svm = SVC(kernel='poly', degree=2)\n",
    "evc = VotingClassifier(estimators=[\n",
    "     ('mlp', mlp), ('rf', rf), ('sgd', sgd)], voting='hard')\n",
    "evc.fit(tfidf_train, y_train)\n",
    "print(evc.score(tfidf_test, y_test))\n",
    "print(classification_report(y_test, y_pred, digits=6))"
   ]
  },
  {
   "cell_type": "code",
   "execution_count": 16,
   "id": "ea4c4f89",
   "metadata": {},
   "outputs": [
    {
     "name": "stdout",
     "output_type": "stream",
     "text": [
      "Voting Classifier\n",
      "0.9143302180685359\n",
      "              precision    recall  f1-score   support\n",
      "\n",
      "        fake   0.869427  0.899506  0.884211       607\n",
      "        real   0.907012  0.878877  0.892723       677\n",
      "\n",
      "    accuracy                       0.888629      1284\n",
      "   macro avg   0.888219  0.889192  0.888467      1284\n",
      "weighted avg   0.889244  0.888629  0.888699      1284\n",
      "\n"
     ]
    }
   ],
   "source": [
    "# Voting Classifier\n",
    "print(\"Voting Classifier\")\n",
    "#lr = LogisticRegression()\n",
    "passive = PassiveAggressiveClassifier()\n",
    "dt = DecisionTreeClassifier()\n",
    "rf = RandomForestClassifier()\n",
    "rp = BaggingClassifier()\n",
    "#svm = SVC(kernel='poly', degree=2)\n",
    "evc = VotingClassifier(estimators=[\n",
    "     ('dt', dt), ('rf', rf), ('rp', rp)], voting='hard')\n",
    "evc.fit(tfidf_train, y_train)\n",
    "print(evc.score(tfidf_test, y_test))\n",
    "print(classification_report(y_test, y_pred, digits=6))"
   ]
  },
  {
   "cell_type": "code",
   "execution_count": 17,
   "id": "46b704f1",
   "metadata": {},
   "outputs": [
    {
     "name": "stdout",
     "output_type": "stream",
     "text": [
      "Hard Voting\n",
      "0.9587227414330218\n",
      "              precision    recall  f1-score   support\n",
      "\n",
      "        fake   0.869427  0.899506  0.884211       607\n",
      "        real   0.907012  0.878877  0.892723       677\n",
      "\n",
      "    accuracy                       0.888629      1284\n",
      "   macro avg   0.888219  0.889192  0.888467      1284\n",
      "weighted avg   0.889244  0.888629  0.888699      1284\n",
      "\n"
     ]
    }
   ],
   "source": [
    "# Voting Classifier\n",
    "print(\"Hard Voting\")\n",
    "\n",
    "#lr = LogisticRegression()\n",
    "mlp = MLPClassifier()\n",
    "rf = RandomForestClassifier()\n",
    "sgd = SGDClassifier()\n",
    "\n",
    "#svm = SVC(kernel='poly', degree=2)\n",
    "evc = VotingClassifier(estimators=[\n",
    "     ('mlp', mlp), ('rf', rf), ('sgd', sgd)], voting='hard')\n",
    "evc.fit(tfidf_train, y_train)\n",
    "print(evc.score(tfidf_test, y_test))\n",
    "print(classification_report(y_test, y_pred, digits=6))\n"
   ]
  },
  {
   "cell_type": "code",
   "execution_count": 18,
   "id": "54300ed2",
   "metadata": {},
   "outputs": [
    {
     "name": "stdout",
     "output_type": "stream",
     "text": [
      "Soft Voting\n",
      "0.9602803738317757\n",
      "              precision    recall  f1-score   support\n",
      "\n",
      "        fake   0.869427  0.899506  0.884211       607\n",
      "        real   0.907012  0.878877  0.892723       677\n",
      "\n",
      "    accuracy                       0.888629      1284\n",
      "   macro avg   0.888219  0.889192  0.888467      1284\n",
      "weighted avg   0.889244  0.888629  0.888699      1284\n",
      "\n"
     ]
    }
   ],
   "source": [
    "# Voting Classifier with voting options as soft\n",
    "#\n",
    "\n",
    "print(\"Soft Voting\")\n",
    "\n",
    "#lr = LogisticRegression()\n",
    "mlp = MLPClassifier()\n",
    "rf = RandomForestClassifier()\n",
    "sgd = SGDClassifier()\n",
    "\n",
    "evc2 = VotingClassifier(estimators=[\n",
    "         ('mlp', mlp), ('rf', rf), ('sgd', sgd)], voting='soft', weights=[2, 1])\n",
    "# \n",
    "# Fit the model with voting classifier\n",
    "# \n",
    "evc.fit(tfidf_train, y_train)\n",
    "print(evc.score(tfidf_test, y_test))\n",
    "print(classification_report(y_test, y_pred, digits=6))\n"
   ]
  },
  {
   "cell_type": "code",
   "execution_count": null,
   "id": "feb423f5",
   "metadata": {},
   "outputs": [],
   "source": []
  },
  {
   "cell_type": "code",
   "execution_count": 23,
   "id": "1e715f35",
   "metadata": {},
   "outputs": [
    {
     "name": "stdout",
     "output_type": "stream",
     "text": [
      "soft voting \n",
      "0.9602803738317757\n",
      "              precision    recall  f1-score   support\n",
      "\n",
      "        fake   0.869427  0.899506  0.884211       607\n",
      "        real   0.907012  0.878877  0.892723       677\n",
      "\n",
      "    accuracy                       0.888629      1284\n",
      "   macro avg   0.888219  0.889192  0.888467      1284\n",
      "weighted avg   0.889244  0.888629  0.888699      1284\n",
      "\n"
     ]
    }
   ],
   "source": [
    "print (\"soft voting \")\n",
    "\n",
    "KNN = KNeighborsClassifier()\n",
    "RF= RandomForestClassifier()\n",
    "#estimator.append(('DTC', DecisionTreeClassifier()))\n",
    "passive = PassiveAggressiveClassifier()\n",
    "clf = MultinomialNB()\n",
    "bag = BaggingClassifier()\n",
    "sgd = SGDClassifier()\n",
    "\n",
    "evc3 = VotingClassifier(estimators = [\n",
    "    ('KNN',KNN),('RF',RF),('passive',passive),('clf',clf),('bag',bag), ('sgd', sgd)], voting ='soft')\n",
    "\n",
    "evc3.fit(tfidf_train, y_train)\n",
    "print(evc.score(tfidf_test, y_test))\n",
    "print(classification_report(y_test, y_pred, digits=6))"
   ]
  },
  {
   "cell_type": "code",
   "execution_count": null,
   "id": "1ba61b1c",
   "metadata": {},
   "outputs": [],
   "source": []
  },
  {
   "cell_type": "code",
   "execution_count": null,
   "id": "48cc90dd",
   "metadata": {},
   "outputs": [],
   "source": []
  },
  {
   "cell_type": "code",
   "execution_count": null,
   "id": "c3b9a9c1",
   "metadata": {},
   "outputs": [],
   "source": []
  },
  {
   "cell_type": "code",
   "execution_count": 24,
   "id": "219700f2",
   "metadata": {},
   "outputs": [
    {
     "name": "stdout",
     "output_type": "stream",
     "text": [
      "soft voting \n",
      "0.9602803738317757\n",
      "              precision    recall  f1-score   support\n",
      "\n",
      "        fake   0.869427  0.899506  0.884211       607\n",
      "        real   0.907012  0.878877  0.892723       677\n",
      "\n",
      "    accuracy                       0.888629      1284\n",
      "   macro avg   0.888219  0.889192  0.888467      1284\n",
      "weighted avg   0.889244  0.888629  0.888699      1284\n",
      "\n"
     ]
    }
   ],
   "source": [
    "print (\"soft voting \")\n",
    "\n",
    "KNN = KNeighborsClassifier()\n",
    "RF= RandomForestClassifier()\n",
    "#estimator.append(('DTC', DecisionTreeClassifier()))\n",
    "passive = PassiveAggressiveClassifier()\n",
    "clf = MultinomialNB()\n",
    "bag = BaggingClassifier()\n",
    "#sgd = SGDClassifier()\n",
    "\n",
    "evc3 = VotingClassifier(estimators = [\n",
    "    ('KNN',KNN),('RF',RF),('passive',passive),('clf',clf),('bag',bag), ('sgd', sgd)], voting ='soft')\n",
    "\n",
    "evc3.fit(tfidf_train, y_train)\n",
    "print(evc.score(tfidf_test, y_test))\n",
    "print(classification_report(y_test, y_pred, digits=6))"
   ]
  },
  {
   "cell_type": "code",
   "execution_count": 27,
   "id": "eb3c0efe",
   "metadata": {},
   "outputs": [
    {
     "name": "stdout",
     "output_type": "stream",
     "text": [
      "soft voting \n"
     ]
    },
    {
     "ename": "AttributeError",
     "evalue": "'PassiveAggressiveClassifier' object has no attribute 'predict_proba'",
     "output_type": "error",
     "traceback": [
      "\u001b[1;31m---------------------------------------------------------------------------\u001b[0m",
      "\u001b[1;31mAttributeError\u001b[0m                            Traceback (most recent call last)",
      "\u001b[1;32m<ipython-input-27-3896a909fbcf>\u001b[0m in \u001b[0;36m<module>\u001b[1;34m\u001b[0m\n\u001b[0;32m     13\u001b[0m \u001b[1;33m\u001b[0m\u001b[0m\n\u001b[0;32m     14\u001b[0m \u001b[0mevc4\u001b[0m\u001b[1;33m.\u001b[0m\u001b[0mfit\u001b[0m\u001b[1;33m(\u001b[0m\u001b[0mtfidf_train\u001b[0m\u001b[1;33m,\u001b[0m \u001b[0my_train\u001b[0m\u001b[1;33m)\u001b[0m\u001b[1;33m\u001b[0m\u001b[1;33m\u001b[0m\u001b[0m\n\u001b[1;32m---> 15\u001b[1;33m \u001b[0mprint\u001b[0m\u001b[1;33m(\u001b[0m\u001b[0mevc4\u001b[0m\u001b[1;33m.\u001b[0m\u001b[0mscore\u001b[0m\u001b[1;33m(\u001b[0m\u001b[0mtfidf_test\u001b[0m\u001b[1;33m,\u001b[0m \u001b[0my_test\u001b[0m\u001b[1;33m)\u001b[0m\u001b[1;33m)\u001b[0m\u001b[1;33m\u001b[0m\u001b[1;33m\u001b[0m\u001b[0m\n\u001b[0m\u001b[0;32m     16\u001b[0m \u001b[0mprint\u001b[0m\u001b[1;33m(\u001b[0m\u001b[0mclassification_report\u001b[0m\u001b[1;33m(\u001b[0m\u001b[0my_test\u001b[0m\u001b[1;33m,\u001b[0m \u001b[0my_pred\u001b[0m\u001b[1;33m,\u001b[0m \u001b[0mdigits\u001b[0m\u001b[1;33m=\u001b[0m\u001b[1;36m6\u001b[0m\u001b[1;33m)\u001b[0m\u001b[1;33m)\u001b[0m\u001b[1;33m\u001b[0m\u001b[1;33m\u001b[0m\u001b[0m\n",
      "\u001b[1;32m~\\anaconda3\\lib\\site-packages\\sklearn\\base.py\u001b[0m in \u001b[0;36mscore\u001b[1;34m(self, X, y, sample_weight)\u001b[0m\n\u001b[0;32m    498\u001b[0m         \"\"\"\n\u001b[0;32m    499\u001b[0m         \u001b[1;32mfrom\u001b[0m \u001b[1;33m.\u001b[0m\u001b[0mmetrics\u001b[0m \u001b[1;32mimport\u001b[0m \u001b[0maccuracy_score\u001b[0m\u001b[1;33m\u001b[0m\u001b[1;33m\u001b[0m\u001b[0m\n\u001b[1;32m--> 500\u001b[1;33m         \u001b[1;32mreturn\u001b[0m \u001b[0maccuracy_score\u001b[0m\u001b[1;33m(\u001b[0m\u001b[0my\u001b[0m\u001b[1;33m,\u001b[0m \u001b[0mself\u001b[0m\u001b[1;33m.\u001b[0m\u001b[0mpredict\u001b[0m\u001b[1;33m(\u001b[0m\u001b[0mX\u001b[0m\u001b[1;33m)\u001b[0m\u001b[1;33m,\u001b[0m \u001b[0msample_weight\u001b[0m\u001b[1;33m=\u001b[0m\u001b[0msample_weight\u001b[0m\u001b[1;33m)\u001b[0m\u001b[1;33m\u001b[0m\u001b[1;33m\u001b[0m\u001b[0m\n\u001b[0m\u001b[0;32m    501\u001b[0m \u001b[1;33m\u001b[0m\u001b[0m\n\u001b[0;32m    502\u001b[0m     \u001b[1;32mdef\u001b[0m \u001b[0m_more_tags\u001b[0m\u001b[1;33m(\u001b[0m\u001b[0mself\u001b[0m\u001b[1;33m)\u001b[0m\u001b[1;33m:\u001b[0m\u001b[1;33m\u001b[0m\u001b[1;33m\u001b[0m\u001b[0m\n",
      "\u001b[1;32m~\\anaconda3\\lib\\site-packages\\sklearn\\ensemble\\_voting.py\u001b[0m in \u001b[0;36mpredict\u001b[1;34m(self, X)\u001b[0m\n\u001b[0;32m    307\u001b[0m         \u001b[0mcheck_is_fitted\u001b[0m\u001b[1;33m(\u001b[0m\u001b[0mself\u001b[0m\u001b[1;33m)\u001b[0m\u001b[1;33m\u001b[0m\u001b[1;33m\u001b[0m\u001b[0m\n\u001b[0;32m    308\u001b[0m         \u001b[1;32mif\u001b[0m \u001b[0mself\u001b[0m\u001b[1;33m.\u001b[0m\u001b[0mvoting\u001b[0m \u001b[1;33m==\u001b[0m \u001b[1;34m'soft'\u001b[0m\u001b[1;33m:\u001b[0m\u001b[1;33m\u001b[0m\u001b[1;33m\u001b[0m\u001b[0m\n\u001b[1;32m--> 309\u001b[1;33m             \u001b[0mmaj\u001b[0m \u001b[1;33m=\u001b[0m \u001b[0mnp\u001b[0m\u001b[1;33m.\u001b[0m\u001b[0margmax\u001b[0m\u001b[1;33m(\u001b[0m\u001b[0mself\u001b[0m\u001b[1;33m.\u001b[0m\u001b[0mpredict_proba\u001b[0m\u001b[1;33m(\u001b[0m\u001b[0mX\u001b[0m\u001b[1;33m)\u001b[0m\u001b[1;33m,\u001b[0m \u001b[0maxis\u001b[0m\u001b[1;33m=\u001b[0m\u001b[1;36m1\u001b[0m\u001b[1;33m)\u001b[0m\u001b[1;33m\u001b[0m\u001b[1;33m\u001b[0m\u001b[0m\n\u001b[0m\u001b[0;32m    310\u001b[0m \u001b[1;33m\u001b[0m\u001b[0m\n\u001b[0;32m    311\u001b[0m         \u001b[1;32melse\u001b[0m\u001b[1;33m:\u001b[0m  \u001b[1;31m# 'hard' voting\u001b[0m\u001b[1;33m\u001b[0m\u001b[1;33m\u001b[0m\u001b[0m\n",
      "\u001b[1;32m~\\anaconda3\\lib\\site-packages\\sklearn\\ensemble\\_voting.py\u001b[0m in \u001b[0;36m_predict_proba\u001b[1;34m(self, X)\u001b[0m\n\u001b[0;32m    327\u001b[0m         \u001b[1;34m\"\"\"Predict class probabilities for X in 'soft' voting.\"\"\"\u001b[0m\u001b[1;33m\u001b[0m\u001b[1;33m\u001b[0m\u001b[0m\n\u001b[0;32m    328\u001b[0m         \u001b[0mcheck_is_fitted\u001b[0m\u001b[1;33m(\u001b[0m\u001b[0mself\u001b[0m\u001b[1;33m)\u001b[0m\u001b[1;33m\u001b[0m\u001b[1;33m\u001b[0m\u001b[0m\n\u001b[1;32m--> 329\u001b[1;33m         avg = np.average(self._collect_probas(X), axis=0,\n\u001b[0m\u001b[0;32m    330\u001b[0m                          weights=self._weights_not_none)\n\u001b[0;32m    331\u001b[0m         \u001b[1;32mreturn\u001b[0m \u001b[0mavg\u001b[0m\u001b[1;33m\u001b[0m\u001b[1;33m\u001b[0m\u001b[0m\n",
      "\u001b[1;32m~\\anaconda3\\lib\\site-packages\\sklearn\\ensemble\\_voting.py\u001b[0m in \u001b[0;36m_collect_probas\u001b[1;34m(self, X)\u001b[0m\n\u001b[0;32m    322\u001b[0m     \u001b[1;32mdef\u001b[0m \u001b[0m_collect_probas\u001b[0m\u001b[1;33m(\u001b[0m\u001b[0mself\u001b[0m\u001b[1;33m,\u001b[0m \u001b[0mX\u001b[0m\u001b[1;33m)\u001b[0m\u001b[1;33m:\u001b[0m\u001b[1;33m\u001b[0m\u001b[1;33m\u001b[0m\u001b[0m\n\u001b[0;32m    323\u001b[0m         \u001b[1;34m\"\"\"Collect results from clf.predict calls.\"\"\"\u001b[0m\u001b[1;33m\u001b[0m\u001b[1;33m\u001b[0m\u001b[0m\n\u001b[1;32m--> 324\u001b[1;33m         \u001b[1;32mreturn\u001b[0m \u001b[0mnp\u001b[0m\u001b[1;33m.\u001b[0m\u001b[0masarray\u001b[0m\u001b[1;33m(\u001b[0m\u001b[1;33m[\u001b[0m\u001b[0mclf\u001b[0m\u001b[1;33m.\u001b[0m\u001b[0mpredict_proba\u001b[0m\u001b[1;33m(\u001b[0m\u001b[0mX\u001b[0m\u001b[1;33m)\u001b[0m \u001b[1;32mfor\u001b[0m \u001b[0mclf\u001b[0m \u001b[1;32min\u001b[0m \u001b[0mself\u001b[0m\u001b[1;33m.\u001b[0m\u001b[0mestimators_\u001b[0m\u001b[1;33m]\u001b[0m\u001b[1;33m)\u001b[0m\u001b[1;33m\u001b[0m\u001b[1;33m\u001b[0m\u001b[0m\n\u001b[0m\u001b[0;32m    325\u001b[0m \u001b[1;33m\u001b[0m\u001b[0m\n\u001b[0;32m    326\u001b[0m     \u001b[1;32mdef\u001b[0m \u001b[0m_predict_proba\u001b[0m\u001b[1;33m(\u001b[0m\u001b[0mself\u001b[0m\u001b[1;33m,\u001b[0m \u001b[0mX\u001b[0m\u001b[1;33m)\u001b[0m\u001b[1;33m:\u001b[0m\u001b[1;33m\u001b[0m\u001b[1;33m\u001b[0m\u001b[0m\n",
      "\u001b[1;32m~\\anaconda3\\lib\\site-packages\\sklearn\\ensemble\\_voting.py\u001b[0m in \u001b[0;36m<listcomp>\u001b[1;34m(.0)\u001b[0m\n\u001b[0;32m    322\u001b[0m     \u001b[1;32mdef\u001b[0m \u001b[0m_collect_probas\u001b[0m\u001b[1;33m(\u001b[0m\u001b[0mself\u001b[0m\u001b[1;33m,\u001b[0m \u001b[0mX\u001b[0m\u001b[1;33m)\u001b[0m\u001b[1;33m:\u001b[0m\u001b[1;33m\u001b[0m\u001b[1;33m\u001b[0m\u001b[0m\n\u001b[0;32m    323\u001b[0m         \u001b[1;34m\"\"\"Collect results from clf.predict calls.\"\"\"\u001b[0m\u001b[1;33m\u001b[0m\u001b[1;33m\u001b[0m\u001b[0m\n\u001b[1;32m--> 324\u001b[1;33m         \u001b[1;32mreturn\u001b[0m \u001b[0mnp\u001b[0m\u001b[1;33m.\u001b[0m\u001b[0masarray\u001b[0m\u001b[1;33m(\u001b[0m\u001b[1;33m[\u001b[0m\u001b[0mclf\u001b[0m\u001b[1;33m.\u001b[0m\u001b[0mpredict_proba\u001b[0m\u001b[1;33m(\u001b[0m\u001b[0mX\u001b[0m\u001b[1;33m)\u001b[0m \u001b[1;32mfor\u001b[0m \u001b[0mclf\u001b[0m \u001b[1;32min\u001b[0m \u001b[0mself\u001b[0m\u001b[1;33m.\u001b[0m\u001b[0mestimators_\u001b[0m\u001b[1;33m]\u001b[0m\u001b[1;33m)\u001b[0m\u001b[1;33m\u001b[0m\u001b[1;33m\u001b[0m\u001b[0m\n\u001b[0m\u001b[0;32m    325\u001b[0m \u001b[1;33m\u001b[0m\u001b[0m\n\u001b[0;32m    326\u001b[0m     \u001b[1;32mdef\u001b[0m \u001b[0m_predict_proba\u001b[0m\u001b[1;33m(\u001b[0m\u001b[0mself\u001b[0m\u001b[1;33m,\u001b[0m \u001b[0mX\u001b[0m\u001b[1;33m)\u001b[0m\u001b[1;33m:\u001b[0m\u001b[1;33m\u001b[0m\u001b[1;33m\u001b[0m\u001b[0m\n",
      "\u001b[1;31mAttributeError\u001b[0m: 'PassiveAggressiveClassifier' object has no attribute 'predict_proba'"
     ]
    }
   ],
   "source": [
    "print (\"soft voting \")\n",
    "\n",
    "KNN = KNeighborsClassifier()\n",
    "RF= RandomForestClassifier()\n",
    "#estimator.append(('DTC', DecisionTreeClassifier()))\n",
    "passive = PassiveAggressiveClassifier()\n",
    "clf = MultinomialNB()\n",
    "#bag = BaggingClassifier()\n",
    "#sgd = SGDClassifier()\n",
    "\n",
    "evc4 = VotingClassifier(estimators = [\n",
    "    ('KNN',KNN),('RF',RF),('passive',passive),('clf',clf)], voting ='soft')\n",
    "\n",
    "evc4.fit(tfidf_train, y_train)\n",
    "print(evc4.score(tfidf_test, y_test))\n",
    "print(classification_report(y_test, y_pred, digits=6))"
   ]
  },
  {
   "cell_type": "code",
   "execution_count": null,
   "id": "585d8b42",
   "metadata": {},
   "outputs": [],
   "source": []
  }
 ],
 "metadata": {
  "kernelspec": {
   "display_name": "Python 3",
   "language": "python",
   "name": "python3"
  },
  "language_info": {
   "codemirror_mode": {
    "name": "ipython",
    "version": 3
   },
   "file_extension": ".py",
   "mimetype": "text/x-python",
   "name": "python",
   "nbconvert_exporter": "python",
   "pygments_lexer": "ipython3",
   "version": "3.8.8"
  }
 },
 "nbformat": 4,
 "nbformat_minor": 5
}
